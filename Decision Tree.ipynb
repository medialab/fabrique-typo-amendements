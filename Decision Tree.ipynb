{
 "cells": [
  {
   "cell_type": "code",
   "execution_count": 27,
   "metadata": {},
   "outputs": [],
   "source": [
    "import pandas as pd\n",
    "from sklearn.tree import DecisionTreeClassifier, export_graphviz\n",
    "from sklearn.model_selection import train_test_split\n",
    "from sklearn.metrics import average_precision_score"
   ]
  },
  {
   "cell_type": "code",
   "execution_count": 3,
   "metadata": {},
   "outputs": [],
   "source": [
    "d = pd.read_csv('./amds_vectors.csv')"
   ]
  },
  {
   "cell_type": "code",
   "execution_count": 4,
   "metadata": {},
   "outputs": [
    {
     "data": {
      "text/html": [
       "<div>\n",
       "<style scoped>\n",
       "    .dataframe tbody tr th:only-of-type {\n",
       "        vertical-align: middle;\n",
       "    }\n",
       "\n",
       "    .dataframe tbody tr th {\n",
       "        vertical-align: top;\n",
       "    }\n",
       "\n",
       "    .dataframe thead th {\n",
       "        text-align: right;\n",
       "    }\n",
       "</style>\n",
       "<table border=\"1\" class=\"dataframe\">\n",
       "  <thead>\n",
       "    <tr style=\"text-align: right;\">\n",
       "      <th></th>\n",
       "      <th>legislature</th>\n",
       "      <th>text_ln</th>\n",
       "      <th>id</th>\n",
       "      <th>nb_signataires</th>\n",
       "      <th>concurrents</th>\n",
       "      <th>signataires</th>\n",
       "      <th>expose_ln</th>\n",
       "      <th>sort</th>\n",
       "      <th>duplicates</th>\n",
       "      <th>auteur_groupe_acronyme</th>\n",
       "      <th>groupes</th>\n",
       "      <th>majorite_opposition</th>\n",
       "      <th>signataire_special</th>\n",
       "    </tr>\n",
       "  </thead>\n",
       "  <tbody>\n",
       "    <tr>\n",
       "      <th>0</th>\n",
       "      <td>15</td>\n",
       "      <td>250</td>\n",
       "      <td>32772</td>\n",
       "      <td>2</td>\n",
       "      <td>8</td>\n",
       "      <td>M. Sommer, M. Barbier</td>\n",
       "      <td>587</td>\n",
       "      <td>Retiré</td>\n",
       "      <td>1</td>\n",
       "      <td>LREM</td>\n",
       "      <td>LREM</td>\n",
       "      <td>majorité</td>\n",
       "      <td>NaN</td>\n",
       "    </tr>\n",
       "    <tr>\n",
       "      <th>1</th>\n",
       "      <td>15</td>\n",
       "      <td>1381</td>\n",
       "      <td>5</td>\n",
       "      <td>14</td>\n",
       "      <td>1</td>\n",
       "      <td>M. Hetzel,  M. Marleix, M. Straumann, M. Quent...</td>\n",
       "      <td>1132</td>\n",
       "      <td>Retiré</td>\n",
       "      <td>1</td>\n",
       "      <td>LR</td>\n",
       "      <td>LR</td>\n",
       "      <td>opposition</td>\n",
       "      <td>NaN</td>\n",
       "    </tr>\n",
       "    <tr>\n",
       "      <th>2</th>\n",
       "      <td>15</td>\n",
       "      <td>484</td>\n",
       "      <td>32776</td>\n",
       "      <td>15</td>\n",
       "      <td>33</td>\n",
       "      <td>Mme Fontaine-Domeizel,  M. Taquet, Mme Bagarry...</td>\n",
       "      <td>644</td>\n",
       "      <td>Retiré</td>\n",
       "      <td>1</td>\n",
       "      <td>LREM</td>\n",
       "      <td>LREM</td>\n",
       "      <td>majorité</td>\n",
       "      <td>NaN</td>\n",
       "    </tr>\n",
       "    <tr>\n",
       "      <th>3</th>\n",
       "      <td>15</td>\n",
       "      <td>2207</td>\n",
       "      <td>12</td>\n",
       "      <td>1</td>\n",
       "      <td>3</td>\n",
       "      <td>M. Hetzel</td>\n",
       "      <td>1720</td>\n",
       "      <td>Non soutenu</td>\n",
       "      <td>1</td>\n",
       "      <td>LR</td>\n",
       "      <td>LR</td>\n",
       "      <td>opposition</td>\n",
       "      <td>NaN</td>\n",
       "    </tr>\n",
       "    <tr>\n",
       "      <th>4</th>\n",
       "      <td>15</td>\n",
       "      <td>149</td>\n",
       "      <td>15</td>\n",
       "      <td>3</td>\n",
       "      <td>7</td>\n",
       "      <td>M. Viala,  M. Cinieri, M. Straumann</td>\n",
       "      <td>229</td>\n",
       "      <td>Non soutenu</td>\n",
       "      <td>1</td>\n",
       "      <td>LR</td>\n",
       "      <td>LR</td>\n",
       "      <td>opposition</td>\n",
       "      <td>NaN</td>\n",
       "    </tr>\n",
       "  </tbody>\n",
       "</table>\n",
       "</div>"
      ],
      "text/plain": [
       "   legislature  text_ln     id  nb_signataires  concurrents  \\\n",
       "0           15      250  32772               2            8   \n",
       "1           15     1381      5              14            1   \n",
       "2           15      484  32776              15           33   \n",
       "3           15     2207     12               1            3   \n",
       "4           15      149     15               3            7   \n",
       "\n",
       "                                         signataires  expose_ln         sort  \\\n",
       "0                              M. Sommer, M. Barbier        587       Retiré   \n",
       "1  M. Hetzel,  M. Marleix, M. Straumann, M. Quent...       1132       Retiré   \n",
       "2  Mme Fontaine-Domeizel,  M. Taquet, Mme Bagarry...        644       Retiré   \n",
       "3                                          M. Hetzel       1720  Non soutenu   \n",
       "4                M. Viala,  M. Cinieri, M. Straumann        229  Non soutenu   \n",
       "\n",
       "   duplicates auteur_groupe_acronyme groupes majorite_opposition  \\\n",
       "0           1                   LREM    LREM            majorité   \n",
       "1           1                     LR      LR          opposition   \n",
       "2           1                   LREM    LREM            majorité   \n",
       "3           1                     LR      LR          opposition   \n",
       "4           1                     LR      LR          opposition   \n",
       "\n",
       "  signataire_special  \n",
       "0                NaN  \n",
       "1                NaN  \n",
       "2                NaN  \n",
       "3                NaN  \n",
       "4                NaN  "
      ]
     },
     "execution_count": 4,
     "metadata": {},
     "output_type": "execute_result"
    }
   ],
   "source": [
    "d.head()"
   ]
  },
  {
   "cell_type": "code",
   "execution_count": 75,
   "metadata": {},
   "outputs": [],
   "source": [
    "X = d[['text_ln', 'nb_signataires', 'concurrents', 'expose_ln']]\n",
    "Y = d['sort']\n",
    "\n",
    "X_train, X_test, Y_train, Y_test = train_test_split(X, Y, test_size=0.33)"
   ]
  },
  {
   "cell_type": "code",
   "execution_count": 76,
   "metadata": {},
   "outputs": [
    {
     "data": {
      "text/plain": [
       "DecisionTreeClassifier(class_weight=None, criterion='gini', max_depth=None,\n",
       "            max_features=None, max_leaf_nodes=None,\n",
       "            min_impurity_decrease=0.0, min_impurity_split=None,\n",
       "            min_samples_leaf=1, min_samples_split=2,\n",
       "            min_weight_fraction_leaf=0.0, presort=False, random_state=None,\n",
       "            splitter='best')"
      ]
     },
     "execution_count": 76,
     "metadata": {},
     "output_type": "execute_result"
    }
   ],
   "source": [
    "clf = DecisionTreeClassifier()\n",
    "clf.fit(X_train, Y_train)"
   ]
  },
  {
   "cell_type": "code",
   "execution_count": 77,
   "metadata": {},
   "outputs": [
    {
     "data": {
      "text/plain": [
       "0.4355295784626284"
      ]
     },
     "execution_count": 77,
     "metadata": {},
     "output_type": "execute_result"
    }
   ],
   "source": [
    "y = list(Y_test)\n",
    "s = 0\n",
    "for i, P in enumerate(clf.predict(X_test)):\n",
    "    if P == y[i]:\n",
    "        s += 1\n",
    "        \n",
    "s / len(X_test)"
   ]
  }
 ],
 "metadata": {
  "kernelspec": {
   "display_name": "Python 3",
   "language": "python",
   "name": "python3"
  },
  "language_info": {
   "codemirror_mode": {
    "name": "ipython",
    "version": 3
   },
   "file_extension": ".py",
   "mimetype": "text/x-python",
   "name": "python",
   "nbconvert_exporter": "python",
   "pygments_lexer": "ipython3",
   "version": "3.6.5"
  }
 },
 "nbformat": 4,
 "nbformat_minor": 2
}
